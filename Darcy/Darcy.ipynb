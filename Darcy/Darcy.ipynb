{
 "cells": [
  {
   "cell_type": "markdown",
   "metadata": {},
   "source": [
    "# Devoir 2. Advection-diffusion en milieu poreux."
   ]
  },
  {
   "cell_type": "markdown",
   "metadata": {},
   "source": [
    "## Introduction"
   ]
  },
  {
   "cell_type": "markdown",
   "metadata": {},
   "source": [
    "Soit le système d'équations sans dimensions suivant:\n",
    "\n",
    "$$\\left(\\frac{\\partial^2}{\\partial z^2}-k^2\\right)w = -k^2 c\\\\\n",
    "\\frac{\\partial c}{\\partial t}-\\frac{1}{Ra}\\left(\\frac{\\partial^2}{\\partial z^2}-k^2\\right)c=-\\frac{\\partial C_0}{\\partial z}w\n",
    "$$\n",
    "\n",
    "où $k$ et $Ra$ sont deux paramètres et $c=c(z,t)$, $w=w(z,t)$ sont deux fonctions des variables réelles $z \\in [0,\\infty ]$ et $t$.\n",
    "\n",
    "La fonction $C_0(z,t)$ est définie comme $C_0(z,t)=1-{\\rm erf}(z\\sqrt{\\frac{Ra}{4t}})$ ce qui implique:\n",
    "\n",
    "$$ \\frac{\\partial C_0}{\\partial z} =\n",
    "\\frac{2}{\\sqrt{\\pi}}\\sqrt{\\frac{Ra}{4t}}e^{-\\left(z\\sqrt{\\frac{Ra}{4t}}\\right)^2}\n",
    "$$\n",
    "\n",
    "Ce système d'équations apparait dans l'étude de la stabilité de solutions chimiques en milieu poreux."
   ]
  },
  {
   "cell_type": "markdown",
   "metadata": {},
   "source": [
    "### Question 1"
   ]
  },
  {
   "cell_type": "markdown",
   "metadata": {},
   "source": [
    "Soit la variable de similarité $\\xi$ définie par $\\xi=z\\sqrt{\\frac{Ra}{4t}}$. Montrer qu'en termes des variables $\\xi$ et $t$ le système d'equations ci-dessus s'écrit comme:\n",
    "\n",
    "$$\\left(\\frac{Ra}{4t}\\frac{\\partial^2}{\\partial \\xi^2}-k^2\\right)w = -k^2 c\\\\\n",
    "\\frac{\\partial c}{\\partial t}-\\frac{1}{t}\\left(\\frac{1}{4}\\frac{\\partial^2}{\\partial \\xi^2}+\\frac{\\xi}{2}\\frac{\\partial}{\\partial\\xi}-\\frac{k^2 t}{Ra}\\right)c=\\sqrt{\\frac{Ra}{\\pi t}}e^{-\\xi^2}w\n",
    "$$"
   ]
  },
  {
   "cell_type": "markdown",
   "metadata": {},
   "source": [
    "### Question 2\n",
    "\n",
    "La variable $\\xi$ est discrétisée sur une grille uniforme:\n",
    "\n",
    "$$\n",
    "\\xi_m = m\\Delta, \\quad m=0, 1,..., 100\n",
    "$$\n",
    "\n",
    "On a alors $c_m = c(\\xi_m,t)$ et $w_m=w(\\xi_m,t)$.\n",
    "\n",
    "En utilisant des différences finies centrées d'ordre 2, comment s'écrivent les opérateurs suivants?\n",
    "\n",
    "$$\n",
    "\\begin{align}\n",
    "L_{i,j} = \\left(\\frac{Ra}{4t}\\frac{\\partial^2}{\\partial \\xi^2}-k^2\\right)_{i,j}\\\\\n",
    "M_{i,j} = \\frac{1}{t}\\left(\\frac{1}{4}\\frac{\\partial^2}{\\partial \\xi^2}+\\frac{\\xi}{2}\\frac{\\partial}{\\partial\\xi}-\\frac{k^2 t}{Ra}\\right)_{i,j}\n",
    "\\end{align}\n",
    "$$\n",
    "\n",
    "avec comme conditions aux bords,\n",
    "\n",
    "$$\n",
    "c(\\xi=0,t)=c(\\xi=\\infty,t)=w(\\xi=0,t)=w(\\xi=\\infty,t)=0\n",
    "$$\n",
    "\n",
    "### Question 3\n",
    "\n",
    "Soit $f(\\xi)=e^{-\\xi^2}h(\\xi)$ où $h$ est une solution de l'équation de Hermite $h^{''}-2\\xi h'=-2\\lambda h$. Montrer que $f$ est alors une fonction propre de l'opérateur\n",
    "\n",
    "$$\n",
    "Hf = \\frac{1}{4}\\frac{\\partial^2 f}{\\partial \\xi^2}+\\frac{\\xi}{2}\\frac{\\partial f}{\\partial\\xi}=\\alpha f\n",
    "$$\n",
    "\n",
    "Si $f(\\xi=0)=f(\\xi=\\infty)=0$, quelles sont les valeurs admissibles pour $\\alpha$?\n",
    "\n",
    "*Indice:* voir la section 'Hermite's differential equation' de la page https://en.wikipedia.org/wiki/Hermite_polynomials\n",
    "\n",
    "### Question 4\n",
    "\n",
    "Pour valider la construction des opérateurs de dérivées premières et secondes, calculer **numériquement** les 5 plus grandes valeurs propres de l'opérateur $H$ et montrer qu'elles sont identiques à celles déterminées à la question 3.\n",
    "\n",
    "On peut à cet effet utiliser la fonction `numpy.linalg.eig` et on prendra: $\\Delta=L/(N-1)$ avec $L=5$ et $N=101$."
   ]
  },
  {
   "cell_type": "markdown",
   "metadata": {},
   "source": [
    "### Question 5"
   ]
  },
  {
   "cell_type": "markdown",
   "metadata": {},
   "source": [
    "Calculer l'évolution au cours du temps de la fonction $c(\\xi_m,t)$ à partir de la condition initiale aléatoire fournie pour ce devoir. Si elle se trouve dans le même directoire que le notebook, elle peut être chargée en utilisant la commande:\n",
    "\n",
    "`c_i = numpy.load(\"init_cond_c.npy\")`\n",
    "\n",
    "On prendra comme temps initial $t_0=10^{-5}$ ainsi que $Ra=500$ et $k=0.1$.\n",
    "\n",
    "* Représenter sur un même graphique la condition initiale $c_i(\\xi_m,t_0)$ et la solution à l'instant $t=10^{-4}$.\n",
    "* Que vaut la valeur maximale de la solution en $t=10^{-4}$ ?\n",
    "\n",
    "L'avancement de la solution dans le temps doit se faire avec l'algorithme RK4 et il faut prendre $dt=10^{-8}$.\n",
    "\n"
   ]
  }
 ],
 "metadata": {
  "anaconda-cloud": {},
  "kernelspec": {
   "display_name": "Python 3",
   "language": "python",
   "name": "python3"
  },
  "language_info": {
   "codemirror_mode": {
    "name": "ipython",
    "version": 3
   },
   "file_extension": ".py",
   "mimetype": "text/x-python",
   "name": "python",
   "nbconvert_exporter": "python",
   "pygments_lexer": "ipython3",
   "version": "3.7.0"
  }
 },
 "nbformat": 4,
 "nbformat_minor": 2
}
