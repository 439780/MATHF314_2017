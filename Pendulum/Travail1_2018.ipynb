{
 "cells": [
  {
   "cell_type": "markdown",
   "metadata": {},
   "source": [
    "# Pendule double et Runge-Kutta 4"
   ]
  },
  {
   "cell_type": "markdown",
   "metadata": {},
   "source": [
    "# Travail personnel 1, MATH-F-314, Année académique 2018-2019"
   ]
  },
  {
   "cell_type": "markdown",
   "metadata": {},
   "source": [
    "## Contexte"
   ]
  },
  {
   "cell_type": "markdown",
   "metadata": {},
   "source": [
    "Le problème proposé s'inspire de la page wikipedia (https://en.wikipedia.org/wiki/Double_pendulum) décrivant le pendule double représenté dans la figure ci-dessous:"
   ]
  },
  {
   "cell_type": "markdown",
   "metadata": {},
   "source": [
    "<img src=\"figs/440px-Double-compound-pendulum-dimensioned.svg.png\" alt=\"Drawing\" style=\"width: 300px;\"/><figcaption>Fig.1 - https://en.wikipedia.org/wiki/Double_pendulum"
   ]
  },
  {
   "cell_type": "markdown",
   "metadata": {},
   "source": [
    "Les deux barreaux ont la même masse $m$ et la même longueur $l$ (on suppose ici que leurs masses sont uniformément distribuées).\n",
    "\n",
    "On définit par ailleurs la position du centre de masse du premier barreau comme:\n",
    "\n",
    "$$\n",
    "x_1=\\frac l2 \\sin\\theta_1 \\\\\n",
    "y_1=-\\frac l2 \\cos\\theta_1\n",
    "$$\n",
    "\n",
    "et celle du second barreau par:\n",
    "\n",
    "$$\n",
    "x_2=l(\\sin\\theta_1+\\frac 12 \\sin\\theta_2) \\\\\n",
    "y_2=-l(\\cos\\theta_1\\frac 12 \\cos\\theta_2)\n",
    "$$"
   ]
  },
  {
   "cell_type": "markdown",
   "metadata": {},
   "source": [
    "## Questions"
   ]
  },
  {
   "cell_type": "markdown",
   "metadata": {},
   "source": [
    "1) En vous basant sur les équations lagrangiennes du problème (https://en.wikipedia.org/wiki/Double_pendulum), résoudre les équations du mouvement avec la méthode numérique 'Runge-Kutta 4' que vous trouverez ici:\n",
    "\n",
    "https://en.wikipedia.org/wiki/Runge–Kutta_methods#The_Runge.E2.80.93Kutta_method\n",
    "\n",
    "Prendre comme paramètres:\n",
    "\n",
    "$m=1\\, {\\rm kg}$\n",
    "\n",
    "$l=1\\, \\rm{m}$\n",
    "\n",
    "$g = 9.81\\, {\\rm m/s^2}$\n",
    "\n",
    "$dt = 0.001\\, s$\n",
    "\n",
    "On prendra comme condition initiale: $\\theta_1 = \\theta_2 = \\pi/2,\\; \\dot y_1 = \\dot y_2 = 0$\n",
    "\n",
    "Que valent les positions des extrémités des barreaux après $20\\, \\rm s$?\n",
    "\n",
    "2) Quel est l'ordre de la méthode numérique utilisée (faites une représentation graphique comme celle discutée dans les modules du cours)?\n",
    "\n",
    "3) Faites une animation graphique de la position des barreaux au cours du temps similaire à la première des animations présentées sur la page wikipedia de référence.\n",
    "\n"
   ]
  },
  {
   "cell_type": "markdown",
   "metadata": {},
   "source": [
    "## Remarques"
   ]
  },
  {
   "cell_type": "markdown",
   "metadata": {},
   "source": [
    "Les recommandations à suivre pour la rédaction ce travail personnel (à réaliser en binôme) se trouvent à l'adresse suivante:\n",
    "\n",
    "http://aqua4.ulb.ac.be/~bknaepen/MATHF314/Evaluation314.html\n",
    "\n",
    "\n",
    "En remettant leur travail, les étudiants reconnaissent avoir pris connaissance de ces recommandations."
   ]
  },
  {
   "cell_type": "code",
   "execution_count": null,
   "metadata": {
    "collapsed": true
   },
   "outputs": [],
   "source": []
  }
 ],
 "metadata": {
  "kernelspec": {
   "display_name": "Python 3",
   "language": "python",
   "name": "python3"
  },
  "language_info": {
   "codemirror_mode": {
    "name": "ipython",
    "version": 3
   },
   "file_extension": ".py",
   "mimetype": "text/x-python",
   "name": "python",
   "nbconvert_exporter": "python",
   "pygments_lexer": "ipython3",
   "version": "3.7.0"
  }
 },
 "nbformat": 4,
 "nbformat_minor": 2
}
