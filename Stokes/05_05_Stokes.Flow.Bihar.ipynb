{
 "cells": [
  {
   "cell_type": "markdown",
   "metadata": {},
   "source": [
    "# Relax and hold steady"
   ]
  },
  {
   "cell_type": "markdown",
   "metadata": {},
   "source": [
    "## Stokes flow"
   ]
  },
  {
   "cell_type": "markdown",
   "metadata": {},
   "source": [
    "This notebook presents the coding assignment for **Module 5** of the course [*\"Practical Numerical Methods with Python.*](https://github.com/numerical-mooc/numerical-mooc) Your mission is to compte Stokes flow in a square cavity by solving a biharmonic equation.\n",
    "Stokes flow, also known as *creeping flow*, refers to flows that are dominated by viscous forces and not by the advective/convective forces.  The Stokes-flow assumption works well for flows that have very low Reynolds number, much smaller than 1: very slow, highly viscous or flows at microscopic length scales.  \n",
    "\n",
    "Stokes flow allows us to simplify the Navier-Stokes equations, eliminating the non-linearity.  Let's run through a quick derivation of the vorticity-transport equation with Stokes-flow assumptions.  "
   ]
  },
  {
   "cell_type": "markdown",
   "metadata": {},
   "source": [
    "## Problem formulation - Equations"
   ]
  },
  {
   "cell_type": "markdown",
   "metadata": {},
   "source": [
    "### Vorticity\n",
    "\n",
    "We start with the Navier-Stokes equations for incompressible flow:\n",
    "\n",
    "\\begin{equation}\n",
    "\\frac{\\partial u}{\\partial t} + u \\cdot \\nabla u = -\\frac{1}{\\rho}\\nabla p + \\nu\\nabla^2 u\n",
    "\\end{equation}\n",
    "\n",
    "If we scale Equation $(1)$ to make it non-dimensional, we can rewrite it as\n",
    "\n",
    "\\begin{equation}\n",
    "Re \\left(\\frac{\\partial u^*}{\\partial t} + u^* \\cdot \\nabla u^* \\right) = -\\nabla p^* + \\nabla^2 u^*\n",
    "\\end{equation}\n",
    "\n",
    "Where $u^*$ and $p^*$ are the non-dimensional velocity and pressure, respectively.  \n",
    "\n",
    "To obtain Stokes flow, we assume that the Reynolds number approaches zero.  Applying that assumption to Equation $(2)$ and dropping the stars, yields\n",
    "\n",
    "\\begin{equation}\n",
    "0 = - \\nabla p + \\nabla^2 u\n",
    "\\end{equation}\n",
    "\n",
    "That simplified things!  Now, we apply the curl operator on both sides of the equation:\n",
    "\n",
    "\\begin{equation}\n",
    "\\nabla \\times 0 = \\nabla \\times \\left( - \\nabla p + \\nabla^2 u\\right)\n",
    "\\end{equation}\n",
    "\n",
    "The left-hand side remains zero, while the first term on the right-hand side is\n",
    "\n",
    "\\begin{equation}\n",
    "\\nabla \\times - \\nabla p = 0\n",
    "\\end{equation}\n",
    "\n",
    "because $\\nabla \\times \\nabla \\phi = 0$ where $\\phi$ is a scalar.\n",
    "\n",
    "Finally,\n",
    "\n",
    "\\begin{equation}\n",
    "\\nabla \\times \\nabla^2 u =\\nabla^2\\omega\n",
    "\\end{equation}\n",
    "\n",
    "where $\\nabla \\times u = \\omega$ is the vorticity.  \n",
    "\n",
    "Combining all of these equations, we arrive at the simplified vorticity transport equation for Stokes flow:\n",
    "\n",
    "\\begin{equation}\n",
    "\\nabla ^2 \\omega = 0\n",
    "\\end{equation}\n",
    "\n",
    "Look familiar?"
   ]
  },
  {
   "cell_type": "markdown",
   "metadata": {},
   "source": [
    "### Stream function"
   ]
  },
  {
   "cell_type": "markdown",
   "metadata": {},
   "source": [
    "Assume that the flow is two-dimensionnal (2D) and that only two components of the velocity are non-zero $(u, v, w=0)$. Because the flow is incompessible, one can then define the stream function $\\psi$ as\n",
    "\n",
    "\\begin{equation}\n",
    "u = \\frac{\\partial \\psi}{\\partial y} \\text{   and   } v = - \\frac{\\partial \\psi}{\\partial x}\n",
    "\\end{equation}\n",
    "\n",
    "In 2D, the vorticity is directed in the $z$ direction and is given by, \n",
    "\n",
    "\\begin{equation}\n",
    "\\omega = \\frac{\\partial v}{\\partial x} - \\frac{\\partial u}{\\partial y}\n",
    "\\end{equation}\n",
    "\n",
    "which, combined with the previous equation yields another familiar looking equation:\n",
    "\n",
    "\\begin{equation}\n",
    "\\nabla^2 \\psi = -\\omega\n",
    "\\end{equation}\n",
    "\n",
    "We have a system of two coupled equations that can describe the fluid flow in a lid-driven cavity at very low Reynolds numbers.  \n",
    "\n",
    "\\begin{equation}\n",
    "\\nabla^2 \\omega = 0\n",
    "\\end{equation}\n",
    "\n",
    "\\begin{equation}\n",
    "\\nabla^2 \\psi = -\\omega\n",
    "\\end{equation}\n",
    "\n",
    "Note that by substituting Equation $(12)$ into $(11)$, we arrive at a new equation: the *biharmonic equation*:\n",
    "\n",
    "\\begin{equation}\n",
    "\\nabla^4 \\psi= 0\n",
    "\\end{equation}\n",
    "\n",
    "This is the equation you have to solve in this assignment."
   ]
  },
  {
   "cell_type": "markdown",
   "metadata": {},
   "source": [
    "## Cavity flow - Boundary conditions"
   ]
  },
  {
   "cell_type": "markdown",
   "metadata": {},
   "source": [
    "You will solve a problem called *lid-driven cavity flow*.  This is a common test problem for Navier-Stokes solvers—we'll be using it to examine Stokes flow.  \n",
    "\n",
    "Assume that the lid of a square cavity moves at a constant velocity of $u=1$, with no fluid leaking out past the moving lid. We we want to visualize what the flow field inside the cavity looks like at steady state.  \n",
    "\n",
    "All of the surfaces, including the lid, are assumed to have no-slip boundary conditions.  The boundary conditions are all specified in terms of the streamfunction $\\psi$, as shown below in Figure $(1)$.  "
   ]
  },
  {
   "cell_type": "markdown",
   "metadata": {},
   "source": [
    "<img src=\"./figures/drivencavity.png\" width=400px>"
   ]
  },
  {
   "cell_type": "markdown",
   "metadata": {},
   "source": [
    "#### Figure 1. Lid-driven Cavity Flow"
   ]
  },
  {
   "cell_type": "markdown",
   "metadata": {},
   "source": [
    "Can you justify those boundary conditions?"
   ]
  },
  {
   "cell_type": "markdown",
   "metadata": {},
   "source": [
    "## Discretization - Coding assignment"
   ]
  },
  {
   "cell_type": "markdown",
   "metadata": {},
   "source": [
    "* Find a second-order, central finite difference discretization of the biharmonic equation.\n",
    "* Implement the boundary conditions using forward or backward, second order accurate finite differences (use only interior boundary nodes).\n",
    "* Solve the biharmonic equation using the conjugate gradient method.\n",
    "* What is the value of the stream function at location (x,y): (0.6,0.2), (0.6,0.4), (0.6,0.6), (0.6,0.8)?\n",
    "\n",
    "Hint: a good source for finite difference schemes is: https://en.wikipedia.org/wiki/Finite_difference_coefficient\n",
    "\n",
    "You should iteratively solve for $\\psi$ until the L1 norm of the difference between successive iterations is less than $1$$\\tt{E}$$^-8$.\n",
    "\n",
    "Use the following discretization parameters:"
   ]
  },
  {
   "cell_type": "code",
   "execution_count": 1,
   "metadata": {
    "collapsed": false
   },
   "outputs": [],
   "source": [
    "nx = 41\n",
    "ny = 41\n",
    "\n",
    "l = 1.\n",
    "h = 1.\n",
    "\n",
    "dx = l/(nx-1)\n",
    "dy = h/(ny-1)\n",
    "\n",
    "l1_target = 1e-8"
   ]
  },
  {
   "cell_type": "code",
   "execution_count": 2,
   "metadata": {
    "collapsed": false
   },
   "outputs": [],
   "source": [
    "def L1norm(new, old):\n",
    "    norm = numpy.sum(numpy.abs(new-old))\n",
    "    return norm"
   ]
  },
  {
   "cell_type": "markdown",
   "metadata": {},
   "source": [
    "The final contour plot for the stream function function should resemble the plot shown in Figure $(2)$."
   ]
  },
  {
   "cell_type": "markdown",
   "metadata": {},
   "source": [
    "<img src=\"./figures/stokes_contour.png\">"
   ]
  },
  {
   "cell_type": "markdown",
   "metadata": {},
   "source": [
    "#### Figure 2.  Contour plot of streamfunction at steady state"
   ]
  },
  {
   "cell_type": "markdown",
   "metadata": {},
   "source": [
    "### References"
   ]
  },
  {
   "cell_type": "markdown",
   "metadata": {},
   "source": [
    "*  Fletcher, C. A. (1988). Computational Techniques for Fluid Dynamics: Volume 2: Specific Techniques for Different Flow Categories.\n",
    "\n",
    "*  Ghia, U. K. N. G., Ghia, K. N., & Shin, C. T. (1982). High-Re solutions for incompressible flow using the Navier-Stokes equations and a multigrid method. Journal of computational physics, 48(3), 387-411.\n",
    "\n",
    "* Greenspan, D. (1974). Discrete numerical methods in physics and engineering (Vol. 312). New York: Academic Press.\n",
    "\n",
    "* Heil, Matthias (2007).  [Viscous Fluid Flow Vorticity Handout (pdf)](http://www.maths.manchester.ac.uk/~mheil/Lectures/Fluids/Material_2007/Vorticity.pdf)\n",
    "\n",
    "* Non-dimensionalization and scaling of the Navier Stokes equations.  (n.d.). In *Wikipedia*.  Retrieved January 30, 2015 [http://en.wikipedia.org/w/index.php?title=Non-dimensionalization_and_scaling_of_the_Navier-Stokes_equations](http://en.wikipedia.org/w/index.php?title=Non-dimensionalization_and_scaling_of_the_Navier%E2%80%93Stokes_equations&oldid=641860920)"
   ]
  },
  {
   "cell_type": "code",
   "execution_count": null,
   "metadata": {},
   "outputs": [],
   "source": []
  }
 ],
 "metadata": {
  "kernelspec": {
   "display_name": "Python 3",
   "language": "python",
   "name": "python3"
  },
  "language_info": {
   "codemirror_mode": {
    "name": "ipython",
    "version": 3
   },
   "file_extension": ".py",
   "mimetype": "text/x-python",
   "name": "python",
   "nbconvert_exporter": "python",
   "pygments_lexer": "ipython3",
   "version": "3.6.4"
  }
 },
 "nbformat": 4,
 "nbformat_minor": 2
}
