{
 "cells": [
  {
   "cell_type": "markdown",
   "metadata": {},
   "source": [
    "# Travail 2 - Maxwell"
   ]
  },
  {
   "cell_type": "markdown",
   "metadata": {},
   "source": [
    "### Introduction"
   ]
  },
  {
   "cell_type": "markdown",
   "metadata": {},
   "source": [
    "Pour ce travail personnel, nous allons considérer l'évolution du champ électromagnétique dans un conducteur contenant une cavité supraconductrice."
   ]
  },
  {
   "cell_type": "markdown",
   "metadata": {},
   "source": [
    "<img src='./figures/diagram.png' width='400px'>\n",
    "\n",
    "#### Figure 1: Schéma de la géométrie considérée. Le conducteur est homogène et infini dans la direction z."
   ]
  },
  {
   "cell_type": "markdown",
   "metadata": {},
   "source": [
    "L'évolution du champ électromagnétique dans le milieu considéré est gouvernée par les équations de Maxwell:\n",
    "\n",
    "$$\\nabla \\times {\\bf E} = -\\partial_t {\\bf B}\\\\\n",
    "\\nabla \\times {\\bf B} =\\mu {\\bf J}\\\\\n",
    "\\nabla \\cdot {\\bf B}=0\n",
    "$$"
   ]
  },
  {
   "cell_type": "markdown",
   "metadata": {},
   "source": [
    "Dans les équations ci-dessus, le courant de déplacement a été négligé (régime quasi stationnaire). D'autre part, on suppose que la loi d'Ohm s'applique dans tout le milieu:\n",
    "\n",
    "$${\\bf J}=\\sigma {\\bf E}$$\n",
    "\n",
    "On a par ailleurs,\n",
    "\n",
    "$$\\sigma=5.96\\times 10^7 S/m \\text{ (pour la partie non supraconductrice)}, \\quad \\mu_0=1.26\\times 10^{-6}N/A^2$$\n",
    "\n",
    "Initialement, le courant électrique et le champ éléctromagnétique sont égaux à zéro partout dans le domaine. En $t=0$, un courant de surface $J=1A/m^2$ est brutalement appliqué sur la surface extérieure du conducteur dans le sens indiqué sur le schéma ci-dessus.\n"
   ]
  },
  {
   "cell_type": "markdown",
   "metadata": {},
   "source": [
    "### Questions"
   ]
  },
  {
   "cell_type": "markdown",
   "metadata": {},
   "source": [
    "1. Montrer qu'en vertu des équations de Maxwell considérées, le champ magnétique obéit à une équation de diffusion.\n",
    "2. Quelles sont les conditions aux bords pour le champ magnétique dans la configuration choisie?\n",
    "3. Calculer l'évolution au cours du temps du champ magnétique par la méthode d'Euler (forward) dans le temps, et avec une discrétisation centrée d'ordre 2 pour le laplacien."
   ]
  },
  {
   "cell_type": "code",
   "execution_count": null,
   "metadata": {
    "collapsed": true
   },
   "outputs": [],
   "source": []
  }
 ],
 "metadata": {
  "kernelspec": {
   "display_name": "Python 3",
   "language": "python",
   "name": "python3"
  },
  "language_info": {
   "codemirror_mode": {
    "name": "ipython",
    "version": 3
   },
   "file_extension": ".py",
   "mimetype": "text/x-python",
   "name": "python",
   "nbconvert_exporter": "python",
   "pygments_lexer": "ipython3",
   "version": "3.6.3"
  }
 },
 "nbformat": 4,
 "nbformat_minor": 1
}
